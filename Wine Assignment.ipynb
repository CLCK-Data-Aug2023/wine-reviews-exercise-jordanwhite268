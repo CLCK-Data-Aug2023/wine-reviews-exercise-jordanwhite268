{
 "cells": [
  {
   "cell_type": "markdown",
   "id": "2ad66693",
   "metadata": {},
   "source": [
    "In this exercise we will create a summary of wine reviews by country and write the data to a CSV file. This exercise is based on the Kaggle Learn Pandas exercise 3.\n",
    "\n",
    "Create a Python program that reads in the data/winemag-data-130k-v2.csv.zip file. Create a summary of the data that contains the name, number of reviews, and the average points for each unique country in the dataset. Write the summary data to a new file in the data folder named reviews-per-country.csv.\n",
    "\n",
    "Example Output Data\n",
    "country\tcount\tpoints\n",
    "US\t54504\t88.6\n",
    "France\t22093\t88.8\n",
    "Italy\t19540\t88.6\n",
    "Spain\t6645\t87.3\n",
    "Portugal\t5691\t88.3\n",
    "...\t...\t...\n",
    "Bosnia and Herzegovina\t2\t86.5\n",
    "Armenia\t2\t87.5\n",
    "Slovakia\t1\t87.0\n",
    "China\t1\t89.0\n",
    "Egypt\t1\t84.0\n",
    "Notes\n",
    "The csv file created by your program should be saved in the data folder.\n",
    "The csv file created by your program should be added, committed and pushed to GitHub.\n",
    "The column names should match the example above.\n",
    "The values in the points column should be rounded to 1 decimal point."
   ]
  },
  {
   "cell_type": "code",
   "execution_count": 2,
   "id": "677b714b",
   "metadata": {},
   "outputs": [],
   "source": [
    "import pandas as pd"
   ]
  },
  {
   "cell_type": "code",
   "execution_count": 28,
   "id": "37c19b33",
   "metadata": {},
   "outputs": [
    {
     "ename": "AttributeError",
     "evalue": "'DataFrameGroupBy' object has no attribute 'len'",
     "output_type": "error",
     "traceback": [
      "\u001b[1;31m---------------------------------------------------------------------------\u001b[0m",
      "\u001b[1;31mAttributeError\u001b[0m                            Traceback (most recent call last)",
      "Cell \u001b[1;32mIn[28], line 4\u001b[0m\n\u001b[0;32m      1\u001b[0m reviews \u001b[38;5;241m=\u001b[39m pd\u001b[38;5;241m.\u001b[39mread_csv(\u001b[38;5;124m'\u001b[39m\u001b[38;5;124mdata/winemag-data-130k-v2.csv/winemag-data-130k-v2.csv\u001b[39m\u001b[38;5;124m'\u001b[39m)\n\u001b[0;32m      2\u001b[0m reviews\n\u001b[1;32m----> 4\u001b[0m reviews_by_country \u001b[38;5;241m=\u001b[39m reviews\u001b[38;5;241m.\u001b[39mgroupby(\u001b[38;5;124m'\u001b[39m\u001b[38;5;124mcountry\u001b[39m\u001b[38;5;124m'\u001b[39m)\u001b[38;5;241m.\u001b[39mlen(reviews)\n",
      "File \u001b[1;32mC:\\ProgramData\\anaconda3\\Lib\\site-packages\\pandas\\core\\groupby\\groupby.py:952\u001b[0m, in \u001b[0;36mGroupBy.__getattr__\u001b[1;34m(self, attr)\u001b[0m\n\u001b[0;32m    949\u001b[0m \u001b[38;5;28;01mif\u001b[39;00m attr \u001b[38;5;129;01min\u001b[39;00m \u001b[38;5;28mself\u001b[39m\u001b[38;5;241m.\u001b[39mobj:\n\u001b[0;32m    950\u001b[0m     \u001b[38;5;28;01mreturn\u001b[39;00m \u001b[38;5;28mself\u001b[39m[attr]\n\u001b[1;32m--> 952\u001b[0m \u001b[38;5;28;01mraise\u001b[39;00m \u001b[38;5;167;01mAttributeError\u001b[39;00m(\n\u001b[0;32m    953\u001b[0m     \u001b[38;5;124mf\u001b[39m\u001b[38;5;124m\"\u001b[39m\u001b[38;5;124m'\u001b[39m\u001b[38;5;132;01m{\u001b[39;00m\u001b[38;5;28mtype\u001b[39m(\u001b[38;5;28mself\u001b[39m)\u001b[38;5;241m.\u001b[39m\u001b[38;5;18m__name__\u001b[39m\u001b[38;5;132;01m}\u001b[39;00m\u001b[38;5;124m'\u001b[39m\u001b[38;5;124m object has no attribute \u001b[39m\u001b[38;5;124m'\u001b[39m\u001b[38;5;132;01m{\u001b[39;00mattr\u001b[38;5;132;01m}\u001b[39;00m\u001b[38;5;124m'\u001b[39m\u001b[38;5;124m\"\u001b[39m\n\u001b[0;32m    954\u001b[0m )\n",
      "\u001b[1;31mAttributeError\u001b[0m: 'DataFrameGroupBy' object has no attribute 'len'"
     ]
    }
   ],
   "source": [
    "reviews = pd.read_csv('data/winemag-data-130k-v2.csv/winemag-data-130k-v2.csv')\n",
    "reviews\n",
    "\n",
    "reviews_by_country = reviews.groupby('country').len(reviews)\n",
    "\n",
    "\n",
    "\n",
    "\n",
    "\n",
    "\n",
    "#summary - name, number of reviews, and avg points per unique country.  \n",
    "#Column names should be \"Country, Count, Points\" \n",
    "#should be rounded to 1 dec point.\n",
    "#write data to a new file named reviews-per-country\n",
    "\n"
   ]
  },
  {
   "cell_type": "code",
   "execution_count": null,
   "id": "b73c31a3",
   "metadata": {},
   "outputs": [],
   "source": []
  }
 ],
 "metadata": {
  "kernelspec": {
   "display_name": "Python 3 (ipykernel)",
   "language": "python",
   "name": "python3"
  },
  "language_info": {
   "codemirror_mode": {
    "name": "ipython",
    "version": 3
   },
   "file_extension": ".py",
   "mimetype": "text/x-python",
   "name": "python",
   "nbconvert_exporter": "python",
   "pygments_lexer": "ipython3",
   "version": "3.11.5"
  }
 },
 "nbformat": 4,
 "nbformat_minor": 5
}

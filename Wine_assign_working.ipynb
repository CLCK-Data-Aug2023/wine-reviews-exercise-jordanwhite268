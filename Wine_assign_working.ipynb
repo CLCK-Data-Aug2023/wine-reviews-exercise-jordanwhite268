{
 "cells": [
  {
   "cell_type": "code",
   "execution_count": 33,
   "id": "6f1c8a81",
   "metadata": {},
   "outputs": [],
   "source": [
    "import pandas as pd\n",
    "\n",
    "wine_reviews = pd.read_csv('data/winemag-data-130k-v2.csv.zip')\n",
    "\n",
    "wine_reviews_by_country = wine_reviews.groupby(['country']).agg({'title': 'count' , 'points': 'mean' })\n",
    "def round_avg_points(points):\n",
    "    points = points.round(1)\n",
    "    return points \n",
    "    \n",
    "rounded_wine_rev_by_country = wine_reviews_by_country.apply(round_avg_points, axis = 'columns')\n",
    "wine_reviews_final = rounded_wine_rev_by_country.rename(columns={'title':'count'})\n",
    "\n",
    "wine_reviews_final.to_csv('data/reviews-per-country.csv')\n",
    "\n",
    "\n"
   ]
  },
  {
   "cell_type": "code",
   "execution_count": null,
   "id": "1495eb56",
   "metadata": {},
   "outputs": [],
   "source": []
  },
  {
   "cell_type": "code",
   "execution_count": null,
   "id": "6d0151d5",
   "metadata": {},
   "outputs": [],
   "source": []
  }
 ],
 "metadata": {
  "kernelspec": {
   "display_name": "Python 3 (ipykernel)",
   "language": "python",
   "name": "python3"
  },
  "language_info": {
   "codemirror_mode": {
    "name": "ipython",
    "version": 3
   },
   "file_extension": ".py",
   "mimetype": "text/x-python",
   "name": "python",
   "nbconvert_exporter": "python",
   "pygments_lexer": "ipython3",
   "version": "3.11.5"
  }
 },
 "nbformat": 4,
 "nbformat_minor": 5
}
